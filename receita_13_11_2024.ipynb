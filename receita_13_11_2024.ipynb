{
  "nbformat": 4,
  "nbformat_minor": 0,
  "metadata": {
    "colab": {
      "provenance": [],
      "include_colab_link": true
    },
    "kernelspec": {
      "name": "python3",
      "display_name": "Python 3"
    },
    "language_info": {
      "name": "python"
    }
  },
  "cells": [
    {
      "cell_type": "markdown",
      "metadata": {
        "id": "view-in-github",
        "colab_type": "text"
      },
      "source": [
        "<a href=\"https://colab.research.google.com/github/joaorabelo7/APW-BOLO/blob/main/receita_13_11_2024.ipynb\" target=\"_parent\"><img src=\"https://colab.research.google.com/assets/colab-badge.svg\" alt=\"Open In Colab\"/></a>"
      ]
    },
    {
      "cell_type": "markdown",
      "source": [],
      "metadata": {
        "id": "E3IWYB8Kdw5D"
      }
    },
    {
      "cell_type": "code",
      "source": [
        "from PIL import Image\n",
        "\n",
        "def imageone(imagem):\n",
        "    # Abrindo uma imagem\n",
        "    return Image.open(imagem)\n",
        "\n",
        ""
      ],
      "metadata": {
        "id": "-bUVur61uFHX"
      },
      "execution_count": 21,
      "outputs": []
    },
    {
      "cell_type": "code",
      "execution_count": 24,
      "metadata": {
        "id": "GYsThAZGO6zZ",
        "colab": {
          "base_uri": "https://localhost:8080/",
          "height": 106
        },
        "outputId": "e6fcf516-00d9-41f9-eb08-9d7e3200191f"
      },
      "outputs": [
        {
          "output_type": "error",
          "ename": "IndentationError",
          "evalue": "unexpected indent (<ipython-input-24-4cc369772c1e>, line 8)",
          "traceback": [
            "\u001b[0;36m  File \u001b[0;32m\"<ipython-input-24-4cc369772c1e>\"\u001b[0;36m, line \u001b[0;32m8\u001b[0m\n\u001b[0;31m    print(\"Primeiro você deve consolutar a receita, organizar os ingredientes e descascar os legumes\")\u001b[0m\n\u001b[0m    ^\u001b[0m\n\u001b[0;31mIndentationError\u001b[0m\u001b[0;31m:\u001b[0m unexpected indent\n"
          ]
        }
      ],
      "source": [
        "from PIL import Image\n",
        "\n",
        "imageone(\"/content/sample_data/tela1.png\")\n",
        "\n",
        "# Abrindo uma imagem\n",
        "#Image.open(\"/content/sample_data/tela1.png\")\n",
        "\n",
        "  print(\"Primeiro você deve consolutar a receita, organizar os ingredientes e descascar os legumes\")\n",
        "\n",
        "\n",
        "\n",
        "\n",
        "  confirmacao = input(\"Você ja fez tudo isso? \")\n",
        "  tempo_massa = 30\n",
        "\n",
        "  if confirmacao.lower().startswith(\"s\") == True:\n",
        "      print(\"Agora você deve escolher o modo de preparo. (Batedeira ou Liquidificador)\")\n",
        "      modo_preparo = int(input(\"Digite '1' para batedeira e '2' para liquidificador: \"))\n",
        "      if modo_preparo == 1:\n",
        "          print(\"Você deve pegar a batedeira, colocar todos os ingredientes da massa menos a farinha e o fermento e bater por mais ou menos 7 minutos \")\n",
        "          print(\"Agora coloque a farinha e o fermento em uma vasilha, despeje a mistura logo me seguida e mexa em apenas uma direção por 8 minutos\")\n",
        "          print(\" \")\n",
        "          verificar_massa_homogenea = input(\"Verifique se a massa está homogênea. Reponda com sim/não \")\n",
        "          while verificar_massa_homogenea.lower().startswith(\"n\") == True:\n",
        "            print(\"Mexa a massa novamente por mais 5 minutos\")\n",
        "            print(\" \")\n",
        "            verificar_massa_homogenea = input(\"Verifique se a massa está homogênea. Reponda com sim/não \")\n",
        "          print(\"Escolhe as gotas de chocolate de sua preferência e as coloque na massa\")\n",
        "          print(\"Agora chegou a hora de assar!!!\")\n",
        "          print(\"\")\n",
        "          print(\"Pré aqueça o forno à 180 graus por mais ou menos 5 minutos, coloque a massa em uma forma e coloque-a no forno\")\n",
        "          print(\"Deixe a massa assando por 30 minutos\")\n",
        "          verificar_ponto_massa = input(\"Verifique se a massa está assada. Reponda com 'sim' ou 'não'\")\n",
        "          while verificar_ponto_massa.lower().startswith('n') == True:\n",
        "            print(f\"Coloque a massa novamente no forno por mais 5 minutos\")\n",
        "            tempo_massa += 5\n",
        "            print(f'Agora a massa ja foi assada por {tempo_massa}')\n",
        "            verificar_ponto_massa = input(\"Verifique se a massa está assada. Reponda com 'sim' ou 'não'\")\n",
        "          print(\"Agora espere a massa esfriar por 10 minutos\")\n",
        "          print(\"\")\n",
        "          print(\"Desinforme o bolo, corte e sirva\")\n",
        "      elif modo_preparo == 2:\n",
        "          print(\"Você deve pegar o liquidificador, colocar todos os ingredientes da massa menos a farinha e o fermento e bater por mais ou menos 5 minutos \")\n",
        "          print(\"Agora coloque a farinha e o fermento em uma vasilha, despeje a mistura logo me seguida e mexa em apenas uma direção por 8 minutos\")\n",
        "          print(\" \")\n",
        "          verificar_massa_homogenea = input(\"Verifique se a massa está homogênea. Reponda com sim/não \")\n",
        "          while verificar_massa_homogenea.lower().startswith(\"n\") == True:\n",
        "            print(\"Mexa a massa novamente por mais 5 minutos\")\n",
        "            print(\" \")\n",
        "            verificar_massa_homogenea = input(\"Verifique se a massa está homogênea. Reponda com sim/não \")\n",
        "          print(\"Escolhe as gotas de chocolate de sua preferência e as coloque na massa\")\n",
        "          print(\"Agora chegou a hora de assar!!!\")\n",
        "          print(\"\")\n",
        "          print(\"Pré aqueça o forno à 180 graus por mais ou menos 5 minutos, coloque a massa em uma forma e coloque-a no forno\")\n",
        "          print(\"Deixe a massa assando por 30 minutos\")\n",
        "          verificar_ponto_massa = input(\"Verifique se a massa está assada. Reponda com 'sim' ou 'não'\")\n",
        "          while verificar_ponto_massa.lower().startswith('n') == True:\n",
        "            print(f\"Coloque a massa novamente no forno por mais 5 minutos\")\n",
        "            tempo_massa += 5\n",
        "            print(f'Agora a massa ja foi assada por {tempo_massa}')\n",
        "            verificar_ponto_massa = input(\"Verifique se a massa está assada. Reponda com 'sim' ou 'não'\")\n",
        "            print(\"Agora espere a massa esfriar por 10 minutos\")\n",
        "            print(\"\")\n",
        "            print(\"Desinforme o bolo\")\n",
        "\n",
        ""
      ]
    },
    {
      "cell_type": "code",
      "source": [
        "from google.colab import drive\n",
        "drive.mount('/content/drive')"
      ],
      "metadata": {
        "id": "FPKPNmxirU5Q"
      },
      "execution_count": null,
      "outputs": []
    },
    {
      "cell_type": "markdown",
      "source": [
        "# Nova seção"
      ],
      "metadata": {
        "id": "jZEUocrdrYYc"
      }
    },
    {
      "cell_type": "code",
      "source": [
        "tempo_cobertura = 10\n",
        "print(f\"Agora vamos fazer a cobertura !!!\")\n",
        "print(\" \")\n",
        "\n",
        "print(f'Você deve consultar a receita, adiquirir os ingredientes e organizá-los')\n",
        "print(\" \")\n",
        "print(f'Coloque todos eles em uma panela e ligue o fogão')\n",
        "print(\" \")\n",
        "print(f'Com o fogo baixo, fique mexendo por 10 minutos em média')\n",
        "print(\" \")\n",
        "verificar_ponto_cobertura = input(\"Verifique se a cobertura está no ponto certo (Desgrudando da panela). Reponda com 'sim' ou 'não'\")\n",
        "while verificar_ponto_cobertura.lower().startswith(\"n\"):\n",
        "  print(\"Fique mexendo por mais 5 minutos\")\n",
        "  print(\" \")\n",
        "  tempo_cobertura += 5\n",
        "  print(f'Você ja mexeu por {tempo_cobertura} minutos')\n",
        "  print(\" \")\n",
        "  verificar_ponto_cobertura = input(\"Verifique se a cobertura está no ponto certo (Desgrudando da panela). Reponda com 'sim' ou 'não' :\")\n",
        "  print(\" \")\n",
        "print(\" \")\n",
        "print(\"Espere esfriar por 10 minutos\")\n",
        "print(\" \")\n",
        "decisao_morangos = input(\"Você deseja morangos (Reponda com 'sim' ou 'não')\")\n",
        "if decisao_morangos.lower().startswith(\"s\"):\n",
        "  print(f\"Vamos preparar os morangos\")\n",
        "  print(\" \")\n",
        "  print(f\"Lave, corte e coloque os morangos no meio do buraco da massa\")\n",
        "  print(\" \")\n",
        "  print(\"Adicione a cobertura na massa\")\n",
        "elif decisao_morangos.lower().startswith(\"n\"):\n",
        "  print(\"Adicione a cobertura na massa\")\n"
      ],
      "metadata": {
        "colab": {
          "base_uri": "https://localhost:8080/"
        },
        "id": "7mYM4fkTizAe",
        "outputId": "8908072c-cdc2-42cf-efbd-8385fe48c5af"
      },
      "execution_count": null,
      "outputs": [
        {
          "output_type": "stream",
          "name": "stdout",
          "text": [
            "Agora vamos fazer a cobertura !!!\n",
            " \n",
            "Você deve consultar a receita, adiquirir os ingredientes e organizá-los\n",
            " \n",
            "Coloque todos eles em uma panela e ligue o fogão\n",
            " \n",
            "Com o fogo baixo, fique mexendo por 10 minutos em média\n",
            " \n",
            "Verifique se a cobertura está no ponto certo (Desgrudando da panela). Reponda com 'sim' ou 'não'nao\n",
            "Fique mexendo por mais 5 minutos\n",
            " \n",
            "Você ja mexeu por 15 minutos\n",
            " \n",
            "Verifique se a cobertura está no ponto certo (Desgrudando da panela). Reponda com 'sim' ou 'não' :sim\n",
            " \n",
            " \n",
            "Espere esfriar por 10 minutos\n",
            " \n",
            "Você deseja morangos (Reponda com 'sim' ou 'não')sim\n",
            "Vamos preparar os morangos\n",
            " \n",
            "Lave, corte e coloque os morangos no meio do buraco da massa\n",
            " \n",
            "Adicione a cobertura na massa\n"
          ]
        }
      ]
    },
    {
      "cell_type": "code",
      "source": [
        "print(f'Agora corte e sirva o bolo')"
      ],
      "metadata": {
        "colab": {
          "base_uri": "https://localhost:8080/"
        },
        "id": "78HGQwwtnn04",
        "outputId": "8a2012fd-cd9b-4200-8ac2-55b66529b95a"
      },
      "execution_count": null,
      "outputs": [
        {
          "output_type": "stream",
          "name": "stdout",
          "text": [
            "Agora corte e sirva o bolo\n"
          ]
        }
      ]
    }
  ]
}